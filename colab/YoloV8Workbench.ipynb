{
  "nbformat": 4,
  "nbformat_minor": 0,
  "metadata": {
    "colab": {
      "provenance": [],
      "gpuType": "T4",
      "mount_file_id": "1qNH85B7KLVq8s88ChqYDJJNyh6LRGvwa",
      "authorship_tag": "ABX9TyOfccId0nn5jDLGkX6Bnc/e",
      "include_colab_link": true
    },
    "kernelspec": {
      "name": "python3",
      "display_name": "Python 3"
    },
    "language_info": {
      "name": "python"
    },
    "accelerator": "GPU"
  },
  "cells": [
    {
      "cell_type": "markdown",
      "metadata": {
        "id": "view-in-github",
        "colab_type": "text"
      },
      "source": [
        "<a href=\"https://colab.research.google.com/github/jonaswehding/yoloTut/blob/main/colab/YoloV8Workbench.ipynb\" target=\"_parent\"><img src=\"https://colab.research.google.com/assets/colab-badge.svg\" alt=\"Open In Colab\"/></a>"
      ]
    },
    {
      "cell_type": "code",
      "execution_count": null,
      "metadata": {
        "id": "bXBWzxN9PWjs"
      },
      "outputs": [],
      "source": [
        "!pip install ultralytics\n",
        "from ultralytics import YOLO\n",
        "\n",
        "\n"
      ]
    },
    {
      "cell_type": "markdown",
      "source": [
        "```\n",
        "├── yolov8\n",
        "    └── train\n",
        "        └── images (folder including all training images)\n",
        "        └── labels (folder including all training labels)\n",
        "    └── test\n",
        "        └── images (folder including all testing images)\n",
        "        └── labels (folder including all testing labels)\n",
        "    └── val\n",
        "        └── images (folder including all testing images)\n",
        "        └── labels (folder including all testing labels)\n",
        "```\n",
        "Se eksempel på google drive mappe struktur på github"
      ],
      "metadata": {
        "id": "Hg2N9xThV-Dt"
      }
    },
    {
      "cell_type": "code",
      "source": [
        "# Indlæs model\n",
        "model = YOLO('yolov8n.pt')  # load a pretrained model (recommended for training)\n",
        "model.train(data='/content/drive/MyDrive/YOLO/datasets/frugt.yaml', epochs=1000, imgsz=320, batch=8,device=0)\n",
        "\n",
        "\n"
      ],
      "metadata": {
        "id": "iunYjTurPKjF"
      },
      "execution_count": null,
      "outputs": []
    },
    {
      "cell_type": "code",
      "source": [
        "# Kør inference påe et billede\n",
        "import locale\n",
        "locale.getpreferredencoding = lambda: \"UTF-8\"\n",
        "!yolo predict model=/content/runs/detect/train/weights/best.pt source='/content/drive/MyDrive/YOLO/testimage2.jpg'\n",
        "\n"
      ],
      "metadata": {
        "id": "7gA875CyWalQ"
      },
      "execution_count": null,
      "outputs": []
    }
  ]
}