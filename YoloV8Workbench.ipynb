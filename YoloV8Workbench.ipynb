{
  "nbformat": 4,
  "nbformat_minor": 0,
  "metadata": {
    "colab": {
      "provenance": [],
      "gpuType": "T4",
      "mount_file_id": "https://github.com/jonaswehding/yoloTut/blob/main/colab/YoloV8Workbench.ipynb",
      "authorship_tag": "ABX9TyMtL6ZDaTNR/IUE97QlQ3Om",
      "include_colab_link": true
    },
    "kernelspec": {
      "name": "python3",
      "display_name": "Python 3"
    },
    "language_info": {
      "name": "python"
    },
    "accelerator": "GPU"
  },
  "cells": [
    {
      "cell_type": "markdown",
      "metadata": {
        "id": "view-in-github",
        "colab_type": "text"
      },
      "source": [
        "<a href=\"https://colab.research.google.com/github/jonaswehding/yoloTut/blob/main/YoloV8Workbench.ipynb\" target=\"_parent\"><img src=\"https://colab.research.google.com/assets/colab-badge.svg\" alt=\"Open In Colab\"/></a>"
      ]
    },
    {
      "cell_type": "markdown",
      "source": [
        "Start med at installere ultralytics."
      ],
      "metadata": {
        "id": "au4UgrpbMmcd"
      }
    },
    {
      "cell_type": "code",
      "execution_count": null,
      "metadata": {
        "id": "bXBWzxN9PWjs"
      },
      "outputs": [],
      "source": [
        "!pip install ultralytics\n",
        "from ultralytics import YOLO\n",
        "\n",
        "\n"
      ]
    },
    {
      "cell_type": "markdown",
      "source": [
        "For at få adgang til data, kan google drive \"mountes\".\n",
        "Klik på mappe ikonet til venstre og klik på drive symbolet.\n",
        "\n",
        "Skift kørselstype til T4 GPU (højre hjørne)\n",
        "\n",
        "Det er vigtigt at mappestrukturen er rigtig og passer til YAML filen\n",
        "\n",
        "Her er indhold af frugt.yaml filen:\n",
        "```{toggle}\n",
        "\n",
        "# Train/val/test sets as 1) dir: path/to/imgs, 2)\n",
        "file: path/to/imgs.txt, or 3) list: [path/to/imgs1, path/to/imgs2, ..]\n",
        "\n",
        "path: /content/drive/MyDrive/YOLO/datasets/frugt  # dataset root dir\n",
        "\n",
        "train: train/images  # train images (relative to 'path') 128 images\n",
        "\n",
        "val: val/images  # val images (relative to 'path') 128 images\n",
        "test:  # test images (optional)\n",
        "\n",
        "# Classes\n",
        "\n",
        "names:\n",
        "  1: apple\n",
        "  0: cherry\n",
        "```"
      ],
      "metadata": {
        "id": "TzYxoSkbtR_y"
      }
    },
    {
      "cell_type": "markdown",
      "source": [
        "```\n",
        "├── yolov8\n",
        "    └── train\n",
        "        └── images (folder including all training images)\n",
        "        └── labels (folder including all training labels)\n",
        "    └── test\n",
        "        └── images (folder including all testing images)\n",
        "        └── labels (folder including all testing labels)\n",
        "    └── val\n",
        "        └── images (folder including all testing images)\n",
        "        └── labels (folder including all testing labels)\n",
        "```\n",
        "Se eksempel på google drive mappe struktur på github"
      ],
      "metadata": {
        "id": "Hg2N9xThV-Dt"
      }
    },
    {
      "cell_type": "code",
      "source": [
        "# Indlæs model\n",
        "model = YOLO('yolov8n.pt')  # load a pretrained model (recommended for training).\n",
        "# Træn din model\n",
        "model.train(data='/content/drive/MyDrive/YOLO/datasets/frugt.yaml', epochs=1000, imgsz=320, batch=8,device=0)\n",
        "\n",
        "# når træningen er færdig, kan modellen downloades. Den ligger i /content/runs/detect/train/weights/best.pt\n",
        "\n",
        "\n"
      ],
      "metadata": {
        "id": "iunYjTurPKjF"
      },
      "execution_count": null,
      "outputs": []
    },
    {
      "cell_type": "code",
      "source": [
        "# Kør inference på et billede\n",
        "import locale\n",
        "locale.getpreferredencoding = lambda: \"UTF-8\"\n",
        "!yolo predict model=/content/runs/detect/train/weights/best.pt source='/content/drive/MyDrive/YOLO/testimage2.jpg'\n",
        "\n"
      ],
      "metadata": {
        "id": "7gA875CyWalQ"
      },
      "execution_count": null,
      "outputs": []
    }
  ]
}